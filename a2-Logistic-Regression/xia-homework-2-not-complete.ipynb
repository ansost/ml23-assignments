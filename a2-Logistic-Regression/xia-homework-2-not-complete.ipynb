{
 "cells": [
  {
   "cell_type": "markdown",
   "id": "b25c0e64-cf53-4e5e-baf2-0be862211d3c",
   "metadata": {},
   "source": [
    "## Grundlagen des maschinellen Lernens (2023/24)\n",
    "\n",
    "## **Aufgabenblatt 2**\n",
    "\n",
    "**Abgabetermin: Mittwoch, 6. Dezember 2023**\n",
    "\n",
    "Bitte bearbeiten Sie die Aufgaben im vorliegenden Jupyter-Notebook. Laden Sie das resultierende ipynb-File in ILIAS hoch."
   ]
  },
  {
   "cell_type": "markdown",
   "id": "43ee12e4-e96f-4fec-8026-2be4f8ed7dd0",
   "metadata": {},
   "source": [
    "## Aufgabe 1\n",
    "\n",
    "Gegeben sei die folgendermaßen erzeugte Menge von Datenpunkte:"
   ]
  },
  {
   "cell_type": "code",
   "execution_count": 9,
   "id": "0c1be3ce-e50a-4560-800d-49c232bcfad9",
   "metadata": {},
   "outputs": [],
   "source": [
    "import numpy as np\n",
    "\n",
    "np.random.seed(42) \n",
    "N = 50\n",
    "x = np.random.rand(N, 1)  \n",
    "y = np.sin(10 * x) + 0.1 * np.random.randn(N, 1)"
   ]
  },
  {
   "cell_type": "markdown",
   "id": "00e27a8e-8882-4ed9-8b1f-5221aec785a2",
   "metadata": {},
   "source": [
    "Die durch den folgende Code erzeugte Graphik veranschaulicht die Anordnung der Datenpunkte."
   ]
  },
  {
   "cell_type": "code",
   "execution_count": 10,
   "id": "7b5bf5f7-f808-4c22-904c-e0d603ebac91",
   "metadata": {},
   "outputs": [
    {
     "data": {
      "image/png": "[encoded data removed]",
      "text/plain": [
       "<Figure size 600x400 with 1 Axes>"
      ]
     },
     "metadata": {},
     "output_type": "display_data"
    }
   ],
   "source": [
    "import matplotlib.pyplot as plt\n",
    "\n",
    "plt.figure(figsize=(6, 4))\n",
    "plt.plot(x, y, \"b.\")\n",
    "plt.xlabel(\"$x$\")\n",
    "plt.ylabel(\"$y$\", rotation=0)\n",
    "plt.axis([0, 1, -1.3, 1.3])\n",
    "plt.grid()\n",
    "plt.show()"
   ]
  },
  {
   "cell_type": "markdown",
   "id": "f4bb44bd-abd0-4aa2-93dd-2b521043473a",
   "metadata": {},
   "source": [
    "Teilen Sie die Datenpunkte in eine Trainings- und eine Validierungsmenge auf, indem Sie jeden zweiten Datenpunkt der Validierungsmenge zuschlagen.\n",
    "\n",
    "Modellieren Sie die Trainingsdaten mittels linearer Regression unter der Merkmalstransformation $\\phi=(\\phi_1,\\dots,\\phi_r)$, wobei die Funktion $\\phi_i$, eine radiale Basisfunktion mit Zentrum $m_i$ und Weitenparameter $b$, folgendermaßen definiert ist:\n",
    "\n",
    "$$\n",
    "\\displaystyle\n",
    "\\phi_i(x)~=~\\mathrm{exp}\\bigl(-\\biggl(\\frac{x-m_i}{b}\\biggr)^2\\bigr)\n",
    "$$\n",
    "\n",
    "Dabei sei $r=15$ und die $m_i$'s seien in gleichen Abständen über das Intervall $[0,1]$ verteilt, mit $m_1=0$ und $m_{15}=1$.\n",
    "\n",
    "Wenden Sie lineare Regression mit Ridge-Regularisierung auf die transformierten Daten an.\n",
    "Nutzen Sie dazu das `Ridge`-Modell aus Scikit-Learn mit der Regularisierungsstärke $0.01$ (Parameter `alpha`) und dem Solver `cholesky`.\n",
    "\n",
    "Ermitteln Sie denjenigen Wert für $b$, für den das berechnete Modell den geringsten Fehler auf den Validierungsdaten aufweist. \n",
    "Testen Sie dazu die ersten hundert Vielfachen von $0.01$ als mögliche Werte für $b$.\n",
    "Verwenden Sie die Funktion `mean_squared_error` aus Scikit-Learn zur Berechnung des Fehlers.\n",
    "Erzeugen Sie einen Plot des Fehlerwerts in Abhängigkeit von $b$.\n",
    "\n",
    "Plotten Sie für den ermittelten besten Wert von $b$ die durch das zugehörige Modell generierte Prädiktionskurve über die graphische Darstellung der Originaldatenpunkte."
   ]
  },
  {
   "cell_type": "code",
   "execution_count": 187,
   "metadata": {},
   "outputs": [],
   "source": [
    "# split the data\n",
    "from sklearn.model_selection import train_test_split\n",
    "\n",
    "X_train, X_val, y_train, y_val = train_test_split(x, y, test_size=0.50, random_state=42)"
   ]
  },
  {
   "cell_type": "code",
   "execution_count": 188,
   "metadata": {},
   "outputs": [],
   "source": [
    "# feature transformation (Gaussian)\n",
    "def rbf_gaussian_transformation(X,r,b):\n",
    "    phi_X = []\n",
    "    m_list = list(np.linspace(0, 1, r))\n",
    "    \n",
    "    for item in X:\n",
    "        in_brac = np.vstack([- ((item - m) / b)**2 for m in m_list])\n",
    "        phi_item = np.concatenate(np.exp(in_brac), axis=0)\n",
    "        phi_X.append(phi_item)\n",
    "\n",
    "    return phi_X"
   ]
  },
  {
   "cell_type": "code",
   "execution_count": 189,
   "metadata": {},
   "outputs": [],
   "source": [
    "# b-value to be tested, the one generated min MSE is our goal\n",
    "b_list = list(np.linspace(0, 1, 101))[1:]  # avoid b==0"
   ]
  },
  {
   "cell_type": "code",
   "execution_count": 190,
   "metadata": {},
   "outputs": [],
   "source": [
    "from sklearn.linear_model import Ridge\n",
    "from sklearn.metrics import mean_squared_error\n",
    "\n",
    "clf = Ridge(alpha=0.01,solver='cholesky')\n",
    "\n",
    "# list of (b_i, MSE_i) \n",
    "b_MSE = []\n",
    "\n",
    "for b in b_list:\n",
    "    # feature transformation with current b-value\n",
    "    phi_X_train = rbf_gaussian_transformation(X=X_train,r=15,b=b)\n",
    "    phi_X_val = rbf_gaussian_transformation(X=X_val,r=15,b=b)\n",
    "\n",
    "    # train the classifier and get prediction of transformed X_val \n",
    "    clf.fit(phi_X_train,y_train)\n",
    "    y_val_pred = clf.predict(phi_X_val)\n",
    "\n",
    "    # update (b, MSE)-tuple list after testing each b-value\n",
    "    b_MSE.append((b,mean_squared_error(y_val_pred, y_val)))"
   ]
  },
  {
   "cell_type": "code",
   "execution_count": 200,
   "metadata": {},
   "outputs": [
    {
     "name": "stdout",
     "output_type": "stream",
     "text": [
      "geringsten Fehler (MSE):  0.013156477333462795\n",
      "dementsprechender b-Wert: 0.24\n"
     ]
    }
   ],
   "source": [
    "b_min_MSE = min(b_MSE, key=lambda x: x[1])\n",
    "\n",
    "print(\"geringsten Fehler (MSE): \", b_min_MSE[1])\n",
    "print(\"dementsprechender b-Wert:\", b_min_MSE[0])"
   ]
  },
  {
   "cell_type": "code",
   "execution_count": 215,
   "metadata": {},
   "outputs": [
    {
     "data": {
      "image/png": "[encoded data removed]",
      "text/plain": [
       "<Figure size 600x400 with 1 Axes>"
      ]
     },
     "metadata": {},
     "output_type": "display_data"
    }
   ],
   "source": [
    "plt.figure(figsize=(6, 4))\n",
    "plt.plot(X_val, y_val, \"b.\")\n",
    "# plt.plot(X_val, y_, \"b.\")\n",
    "plt.xlabel(\"$x$\")\n",
    "plt.ylabel(\"$y$\", rotation=0)\n",
    "plt.axis([0, 1, -1.3, 1.3])\n",
    "plt.grid()\n",
    "plt.show()"
   ]
  },
  {
   "cell_type": "code",
   "execution_count": 216,
   "metadata": {},
   "outputs": [
    {
     "data": {
      "image/png": "[encoded data removed]",
      "text/plain": [
       "<Figure size 600x400 with 1 Axes>"
      ]
     },
     "metadata": {},
     "output_type": "display_data"
    }
   ],
   "source": [
    "plt.figure(figsize=(6, 4))\n",
    "plt.plot(X_val, y_val_pred, \"b.\")\n",
    "plt.xlabel(\"$x$\")\n",
    "plt.ylabel(\"$y$\", rotation=0)\n",
    "plt.axis([0, 1, -1.3, 1.3])\n",
    "plt.grid()\n",
    "plt.show()"
   ]
  },
  {
   "cell_type": "code",
   "execution_count": 212,
   "metadata": {},
   "outputs": [],
   "source": [
    "# x_axis = [item[0] for item in b_MSE]\n",
    "# y_axis = [item[1] for item in b_MSE]\n",
    "\n",
    "# plt.figure(figsize=(8,8))\n",
    "# plt.plot(x_axis, y_axis, \"b.\")\n",
    "# plt.xlabel(\"$x$\")\n",
    "# plt.ylabel(\"$y$\", rotation=0)\n",
    "# plt.show()"
   ]
  },
  {
   "cell_type": "markdown",
   "id": "4ffafce2-51d6-4ece-a506-e0e3bd73c953",
   "metadata": {},
   "source": [
    "## Aufgabe 2\n",
    "\n",
    "Ziel dieser Aufgabe ist die Rekonstruktion des auf den Vorlesungsfolien im Abschnitt ‘Logistic regression/Feature transformations’ anhand der Abbildung 17.12 aus Barber (2012) illustrierten binären Klassifikationsbeispiels.\n",
    "Verwenden Sie dazu die folgendermaßen erzeugten Daten."
   ]
  },
  {
   "cell_type": "code",
   "execution_count": 1,
   "id": "d180f7ee-b57d-4edf-b1de-5b04af6dec22",
   "metadata": {},
   "outputs": [],
   "source": [
    "import numpy as np\n",
    "\n",
    "count = 25\n",
    "cov = [[5, 0], [0, 5]]\n",
    "mean = [[4, 5], [-5,4], [-4,-4], [4,-5]]\n",
    "\n",
    "np.random.seed(42) \n",
    "x = [np.random.multivariate_normal(m, cov, count) for m in mean]\n",
    "X = np.concatenate(x)\n",
    "\n",
    "classes = [0, 1, 0, 1]\n",
    "cl = [np.full((count), c) for c in classes]\n",
    "y = np.concatenate(cl)"
   ]
  },
  {
   "cell_type": "markdown",
   "id": "8b5def52-b6f3-48cd-9a36-2348e7d60bb2",
   "metadata": {},
   "source": [
    "Die nachfolgend erzeugte Graphik illustriert die Anordnung der Datenpunkte sowie ihre Klassenzugehörigkeit."
   ]
  },
  {
   "cell_type": "code",
   "execution_count": 2,
   "id": "b4322beb-9f5d-45cd-8cd5-850930010631",
   "metadata": {},
   "outputs": [
    {
     "data": {
      "image/png": "[encoded data removed]",
      "text/plain": [
       "<Figure size 600x600 with 1 Axes>"
      ]
     },
     "metadata": {},
     "output_type": "display_data"
    }
   ],
   "source": [
    "import matplotlib.pyplot as plt\n",
    "\n",
    "plotsect = 12\n",
    "plt.figure(figsize=(6, 6))\n",
    "dotcolors = \"br\"\n",
    "for i, xi in enumerate(x):\n",
    "    plt.plot(xi[:,0], xi[:,1], dotcolors[classes[i]]+\".\")\n",
    "plt.xlabel(\"$x_1$\")\n",
    "plt.ylabel(\"$x_2$\", rotation=0)\n",
    "plt.axis([-plotsect, plotsect, -plotsect, plotsect])\n",
    "plt.grid()\n",
    "plt.show()"
   ]
  },
  {
   "cell_type": "markdown",
   "id": "c5749091-ba75-440b-995b-5ceae6ba6659",
   "metadata": {},
   "source": [
    "Konstruieren Sie einen Klassifikator für die Daten unter Verwendung des Modells `LogisticRegression` aus Scikit-learn.\n",
    "Transformieren Sie vorher die Daten in geeigneter Weise.\n",
    "\n",
    "Stellen Sie die “Höhenlinien” der Klassenzugehörigkeitswahrscheinlichkeiten graphisch im Plott der Datenpunkte dar.\n",
    "Sie können sich dabei an dem `matplotlib`-Code aus dem Notebook zu Kaptitel 4 von Gérons Buch, Abschnitt ‘Softmax Regression’, orientieren, der zur Erzeugung der Abbildung 4-25 im Buch dient. (Die resultierende Graphik sollte eine gewisse Ähnlichkeit mit der oben erwähnten Abbildung aus Barbers Buch aufweisen.)"
   ]
  }
 ],
 "metadata": {
  "kernelspec": {
   "display_name": "Python 3 (ipykernel)",
   "language": "python",
   "name": "python3"
  },
  "language_info": {
   "codemirror_mode": {
    "name": "ipython",
    "version": 3
   },
   "file_extension": ".py",
   "mimetype": "text/x-python",
   "name": "python",
   "nbconvert_exporter": "python",
   "pygments_lexer": "ipython3",
   "version": "3.11.6"
  }
 },
 "nbformat": 4,
 "nbformat_minor": 5
}
