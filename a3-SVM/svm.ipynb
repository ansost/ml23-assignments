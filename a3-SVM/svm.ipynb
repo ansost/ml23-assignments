{
 "cells": [
  {
   "cell_type": "code",
   "execution_count": 1,
   "metadata": {},
   "outputs": [],
   "source": [
    "import numpy as np\n",
    "\n",
    "# generate the data\n",
    "np.random.seed(42)\n",
    "N = 50\n",
    "x = np.random.rand(N, 1)\n",
    "y = np.sin(10 * x) + 0.1 * np.random.randn(N, 1)\n",
    "\n",
    "# split the data manually\n",
    "x_train, x_dev, y_train, y_dev = x[0:50:2], x[1:50:2], y[0:50:2], y[1:50:2]"
   ]
  },
  {
   "cell_type": "code",
   "execution_count": null,
   "metadata": {},
   "outputs": [],
   "source": []
  }
 ],
 "metadata": {
  "kernelspec": {
   "display_name": "BASE",
   "language": "python",
   "name": "python3"
  },
  "language_info": {
   "codemirror_mode": {
    "name": "ipython",
    "version": 3
   },
   "file_extension": ".py",
   "mimetype": "text/x-python",
   "name": "python",
   "nbconvert_exporter": "python",
   "pygments_lexer": "ipython3",
   "version": "3.11.7"
  }
 },
 "nbformat": 4,
 "nbformat_minor": 2
}
